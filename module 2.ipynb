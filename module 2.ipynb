{
 "cells": [
  {
   "cell_type": "code",
   "execution_count": null,
   "id": "6fa9d21e",
   "metadata": {},
   "outputs": [],
   "source": [
    "# 1]\n",
    "# write a python programm to cheak if a number is positive,negative or zero.\n",
    "num=float(input(\"enter number \"))\n",
    "if num>0:\n",
    "    print(\"number is positive\")\n",
    "elif num==0:\n",
    "    print(\"number is zero\")\n",
    "else:\n",
    "    print(\"number is negative\")"
   ]
  },
  {
   "cell_type": "code",
   "execution_count": null,
   "id": "f7673e79",
   "metadata": {},
   "outputs": [],
   "source": [
    "# 2]\n",
    "# write a python program to get the factorial number of given number.\n",
    "num=int(input(\"enter the number :\"))\n",
    "factorial=1\n",
    "if num==0:\n",
    "    print(\"factorial of 0 is 1\")\n",
    "if num<0:\n",
    "    print(\"not exist\")\n",
    "else:\n",
    "    for i in range(1,num+1):\n",
    "        factorial = factorial*i\n",
    "    print(\"the factorial of\",num,\"is\",factorial)\n",
    "                "
   ]
  },
  {
   "cell_type": "code",
   "execution_count": 33,
   "id": "6712ba0e",
   "metadata": {},
   "outputs": [
    {
     "name": "stdout",
     "output_type": "stream",
     "text": [
      "enter number:2\n",
      "0\n",
      "1\n"
     ]
    }
   ],
   "source": [
    "# 3]\n",
    "n=int(input(\"enter number:\"))\n",
    "a1=0\n",
    "b1=1\n",
    "if n==1:\n",
    "    print(a1)\n",
    "else:\n",
    "    print(a1)\n",
    "    print(b1)\n",
    "    for i in range(2,n):\n",
    "        c1=a1+b1\n",
    "        print(c1)\n",
    "        a1=b1\n",
    "        b1=c1\n",
    "\n"
   ]
  },
  {
   "cell_type": "code",
   "execution_count": null,
   "id": "157148fc",
   "metadata": {},
   "outputs": [],
   "source": [
    "# 4]\n",
    "how memory is managed in python?\n",
    "ans:it involves a private heap containing all python objects and data structures."
   ]
  },
  {
   "cell_type": "code",
   "execution_count": null,
   "id": "143897a3",
   "metadata": {},
   "outputs": [],
   "source": [
    "# 5]\n",
    "what is the purpose continue statement in python?\n",
    "ans:to end the current itreation in a for loop/while loop and continue to the next iteration.\n"
   ]
  },
  {
   "cell_type": "code",
   "execution_count": null,
   "id": "86b69548",
   "metadata": {},
   "outputs": [],
   "source": [
    "# 6]\n",
    "a=55\n",
    "b=45\n",
    "print(\"before swaping the number\" ,(a,b))\n",
    "a,b=b,a\n",
    "print(\"without temp\",(a,b))\n",
    "temp=a\n",
    "a=b\n",
    "b=temp\n",
    "print(\"with temp\",(a,b))"
   ]
  },
  {
   "cell_type": "code",
   "execution_count": null,
   "id": "9533d2df",
   "metadata": {},
   "outputs": [],
   "source": [
    "# 7]\n",
    "num=int(input(\"enter the number :\"))\n",
    "if(num%2)==0:\n",
    "    print(\"num is even\")\n",
    "else:\n",
    "    print(\"number is odd\")"
   ]
  },
  {
   "cell_type": "code",
   "execution_count": null,
   "id": "b6aa18a7",
   "metadata": {},
   "outputs": [],
   "source": [
    "# 8]\n",
    "vowel=(\"a\",\"e\",\"i\",\"o\",\"u\",\"A\",\"E\",\"I\",\"O\",\"U\")\n",
    "letter=input(\"enter the letter :\")\n",
    "if letter in vowel:\n",
    "    print(\"the given latter is vowel\")\n",
    "else:\n",
    "    print(\"letter is not vowel\")\n",
    "    "
   ]
  },
  {
   "cell_type": "code",
   "execution_count": null,
   "id": "ff058edd",
   "metadata": {},
   "outputs": [],
   "source": [
    "# 9]\n",
    "x=float(input(\"enter the value:\"))\n",
    "y=float(input(\"enter the value:\"))\n",
    "if x==y or x+y==5 or x-y==5:\n",
    "    print(\"true\")\n",
    "else:\n",
    "        print(\"false\")\n",
    "        "
   ]
  },
  {
   "cell_type": "code",
   "execution_count": null,
   "id": "1408a1db",
   "metadata": {},
   "outputs": [],
   "source": [
    "# 10]\n",
    "a=int(input(\"enter thr number :\"))\n",
    "b=int(input(\"enter thr number :\"))\n",
    "c=int(input(\"enter thr number :\"))\n",
    "if a==b or b==c or c==a:\n",
    "    sum=0\n",
    "    print(sum)\n",
    "else:\n",
    "    sum=a+b+c\n",
    "    print(sum)"
   ]
  },
  {
   "cell_type": "code",
   "execution_count": null,
   "id": "8383bdb7",
   "metadata": {},
   "outputs": [],
   "source": [
    "# 11]\n",
    "num=int(input(\"enter thr number :\"))\n",
    "sum=0\n",
    "for i in range(1,num+1):\n",
    "    sum+=i\n",
    "    \n",
    "print(\"the sum of first \",num,\"positive integer :\",sum)"
   ]
  },
  {
   "cell_type": "code",
   "execution_count": null,
   "id": "cba87bb1",
   "metadata": {},
   "outputs": [],
   "source": [
    "# 12]\n",
    "a=\"write a python program to calculate the length of a string\"\n",
    "print(len(a))"
   ]
  },
  {
   "cell_type": "code",
   "execution_count": null,
   "id": "7335f2f3",
   "metadata": {},
   "outputs": [],
   "source": [
    "# 13]\n",
    "a=\"write a python program to count the number of characters in a string\"\n",
    "print(a.count(\"a\"))"
   ]
  },
  {
   "cell_type": "code",
   "execution_count": null,
   "id": "619553d9",
   "metadata": {},
   "outputs": [],
   "source": [
    "# 14]\n",
    "1)what are negative indexes and why are they used?\n",
    "ans:negative indexing is used to get last  index number from the string."
   ]
  },
  {
   "cell_type": "code",
   "execution_count": null,
   "id": "a94a07ab",
   "metadata": {},
   "outputs": [],
   "source": [
    "# 15]\n",
    "# write a python program to count occurrences of a substring in a string.\n",
    "a=\"python is a programming language\"\n",
    "print(a.count(\"is\"))\n"
   ]
  },
  {
   "cell_type": "code",
   "execution_count": null,
   "id": "8106258d",
   "metadata": {},
   "outputs": [],
   "source": [
    "# 16]\n",
    "a=\"hello\"\n",
    "b=\"love\"\n",
    "print(\"befor swap:\", a,\" \",b)\n",
    "a1=b[:2]+a[2:]\n",
    "a2=a[:2]+b[2:]\n",
    "print(a1)\n",
    "print(a2)"
   ]
  },
  {
   "cell_type": "code",
   "execution_count": null,
   "id": "f79df3e8",
   "metadata": {},
   "outputs": [],
   "source": [
    "# 17]\n",
    "a=input(\"enter :\")\n",
    "if len(a)<3:\n",
    "    print(a)\n",
    "elif a.endswith(\"ing\"):\n",
    "    print(a+\"ly\")\n",
    "else:\n",
    "    print(a+\"ing\")\n",
    "\n",
    "\n"
   ]
  },
  {
   "cell_type": "code",
   "execution_count": 37,
   "id": "40bf04bc",
   "metadata": {},
   "outputs": [
    {
     "name": "stdout",
     "output_type": "stream",
     "text": [
      "enter string :not good\n",
      "not good\n"
     ]
    }
   ],
   "source": [
    "# 18]\n",
    "a=input(\"enter string :\")\n",
    "b=a.find(\"not\")\n",
    "c=a.find(\"poor\")\n",
    "if b==c-4:\n",
    "    print(a.replace(\"not poor\",\"good\"))\n",
    "else:\n",
    "    print(a)\n",
    "    "
   ]
  },
  {
   "cell_type": "code",
   "execution_count": 38,
   "id": "321618f1",
   "metadata": {},
   "outputs": [
    {
     "name": "stdout",
     "output_type": "stream",
     "text": [
      "15\n"
     ]
    }
   ],
   "source": [
    "# 19]\n",
    "a=[\"tushar\",\"ishita\",\"arshit\",\"jensi\",\"hhggftresxbjuty\"]\n",
    "m=0\n",
    "for i in a:\n",
    "    if len(i)>m:\n",
    "        m=len(i)\n",
    "print(m)        "
   ]
  },
  {
   "cell_type": "code",
   "execution_count": null,
   "id": "585db88f",
   "metadata": {},
   "outputs": [],
   "source": [
    "# 20]\n",
    "a=\"have a nice day.\"\n",
    "if len(a)%4==0:\n",
    "    print(a[::-1])\n",
    "else:\n",
    "    print(a)"
   ]
  },
  {
   "cell_type": "code",
   "execution_count": null,
   "id": "6acd41eb",
   "metadata": {},
   "outputs": [],
   "source": [
    "# 21]\n",
    "a=input(\"enter :\")\n",
    "a1=a[:2]+a[:-3:-1]\n",
    "print(a1)\n",
    "print(len(a))\n",
    "if len(a)<2:\n",
    "    print(\"the string is empty\")\n",
    "else:\n",
    "    print(a)"
   ]
  },
  {
   "cell_type": "code",
   "execution_count": 32,
   "id": "9958c3bf",
   "metadata": {},
   "outputs": [
    {
     "name": "stdout",
     "output_type": "stream",
     "text": [
      "9\n",
      "hello my ishita name is ishita\n"
     ]
    }
   ],
   "source": [
    "# 22]\n",
    "a=\"hello my name is ishita\"\n",
    "print(a.index(\"name\"))\n",
    "b=\"ishita\"\n",
    "a1= a[:9 ] +  b +a[8:]\n",
    "print(a1)"
   ]
  }
 ],
 "metadata": {
  "kernelspec": {
   "display_name": "Python 3 (ipykernel)",
   "language": "python",
   "name": "python3"
  },
  "language_info": {
   "codemirror_mode": {
    "name": "ipython",
    "version": 3
   },
   "file_extension": ".py",
   "mimetype": "text/x-python",
   "name": "python",
   "nbconvert_exporter": "python",
   "pygments_lexer": "ipython3",
   "version": "3.9.13"
  }
 },
 "nbformat": 4,
 "nbformat_minor": 5
}
