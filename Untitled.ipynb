{
 "cells": [
  {
   "cell_type": "code",
   "execution_count": null,
   "id": "9a07b46c",
   "metadata": {},
   "outputs": [],
   "source": [
    "QUE 1 : what is software?\n",
    "   ANS: software is set of instruction data,or program used to oprate a computer and execute specific tasks.in simpler\n",
    "            terms ,software telles a computer how to function."
   ]
  },
  {
   "cell_type": "code",
   "execution_count": null,
   "id": "24995ee6",
   "metadata": {},
   "outputs": [],
   "source": [
    "QUE 2:what are the types of application?\n",
    "  ANS:1.native application - it take so much time to develop the app\n",
    "      2. hybrid applicatin - it take less time\n",
    "      3. web applications\n",
    "      4. progressive applications"
   ]
  },
  {
   "cell_type": "code",
   "execution_count": null,
   "id": "10ff2743",
   "metadata": {},
   "outputs": [],
   "source": [
    "QUE 3:what is programming?\n",
    "  ANS :programming as it is the process thet models or structure the set of instruction thet instruct the machine how to perform\n",
    "       a task and what to perform."
   ]
  },
  {
   "cell_type": "code",
   "execution_count": null,
   "id": "17f2a6a0",
   "metadata": {},
   "outputs": [],
   "source": [
    "QUE 4:what is python?\n",
    "  ANS:python is an interpreted, object-oriented, high-level programming language with dynamic semantics. its high-level built in\n",
    "      data structures, combined with dyanmic typing and dynamic binding,make it very attractive for rapid application\n",
    "        development,as well as for use as a scripting or glue language to connect existing components together."
   ]
  }
 ],
 "metadata": {
  "kernelspec": {
   "display_name": "Python 3 (ipykernel)",
   "language": "python",
   "name": "python3"
  },
  "language_info": {
   "codemirror_mode": {
    "name": "ipython",
    "version": 3
   },
   "file_extension": ".py",
   "mimetype": "text/x-python",
   "name": "python",
   "nbconvert_exporter": "python",
   "pygments_lexer": "ipython3",
   "version": "3.9.13"
  }
 },
 "nbformat": 4,
 "nbformat_minor": 5
}
