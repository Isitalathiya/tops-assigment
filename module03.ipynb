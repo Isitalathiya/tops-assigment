{
 "cells": [
  {
   "cell_type": "code",
   "execution_count": null,
   "id": "68cc335a",
   "metadata": {},
   "outputs": [],
   "source": [
    "# 1] What is List? How will you reverse a list?\n",
    "lists are used to store multiple iteams in a single variable.\n",
    "reversing a list using the reverse() function"
   ]
  },
  {
   "cell_type": "code",
   "execution_count": 3,
   "id": "78029eaa",
   "metadata": {},
   "outputs": [
    {
     "data": {
      "text/plain": [
       "25"
      ]
     },
     "execution_count": 3,
     "metadata": {},
     "output_type": "execute_result"
    }
   ],
   "source": [
    "# 2] How will you remove last object from a list?Suppose list1 is [2, 33, 222, 14, and 25], what is list1 [-1]? \n",
    "using pop method we will remove last object from list\n",
    "list1=[2,33,222,14,25]\n",
    "list1[-1]"
   ]
  },
  {
   "cell_type": "code",
   "execution_count": null,
   "id": "ce69a5f6",
   "metadata": {},
   "outputs": [],
   "source": [
    "# 3]  Differentiate between append () and extend () methods?\n",
    "append() :\n",
    "    add number at last of list.\n",
    "extend() :\n",
    "    join/extend list but as an individual."
   ]
  },
  {
   "cell_type": "code",
   "execution_count": 22,
   "id": "17fee2f7",
   "metadata": {
    "scrolled": false
   },
   "outputs": [
    {
     "name": "stdout",
     "output_type": "stream",
     "text": [
      "0\n",
      "93\n",
      "4\n",
      "11\n",
      "19\n",
      "112\n",
      "117\n",
      "119\n",
      "120\n",
      "120\n"
     ]
    }
   ],
   "source": [
    "# 4] Write a Python function to get the largest number, smallest num and sum \n",
    "of all from a list.\n",
    "a=[4,7,8,93,5,2,1,0]\n",
    "sum=0\n",
    "print(min(a))\n",
    "print(max(a))\n",
    "for i in a:\n",
    "    sum=sum+i\n",
    "    print(sum)\n",
    "    \n"
   ]
  },
  {
   "cell_type": "code",
   "execution_count": null,
   "id": "88f078e1",
   "metadata": {},
   "outputs": [],
   "source": [
    "# 5] How will you compare two lists?\n",
    " using sort method with the (==) oprator."
   ]
  },
  {
   "cell_type": "code",
   "execution_count": 26,
   "id": "73d03ab6",
   "metadata": {
    "scrolled": true
   },
   "outputs": [
    {
     "name": "stdout",
     "output_type": "stream",
     "text": [
      "3\n"
     ]
    }
   ],
   "source": [
    "# 6] Write a Python program to count the number of strings where the string \n",
    "# length is 2 or more and the first and last character are same from a given \n",
    "# list of strings.\n",
    "a=[\"abc\",\"aba\",\"cbd\",\"1221\",\"eee\"]\n",
    "count=0\n",
    "for i in a:\n",
    "    if len(i)>2 and i[0]==i[-1]:\n",
    "        count=count+1\n",
    "print(count)\n"
   ]
  },
  {
   "cell_type": "code",
   "execution_count": 23,
   "id": "14db6cb0",
   "metadata": {
    "scrolled": true
   },
   "outputs": [
    {
     "name": "stdout",
     "output_type": "stream",
     "text": [
      "[0, 1, 3, 5, 6, 7, 9]\n"
     ]
    }
   ],
   "source": [
    "# 7] Write a Python program to remove duplicates from a list\n",
    "a=[1,3,5,7,9,0,6,7,5]\n",
    "print(list(set(a)))\n"
   ]
  },
  {
   "cell_type": "code",
   "execution_count": 28,
   "id": "565f60b0",
   "metadata": {},
   "outputs": [
    {
     "name": "stdout",
     "output_type": "stream",
     "text": [
      "list is not empty\n"
     ]
    }
   ],
   "source": [
    "# 8] Write a Python program to check a list is empty or not.\n",
    "a=[\"tushar\",\"is\",\"mad\"]\n",
    "if len(a)==0:\n",
    "    print(\"list is empty\")\n",
    "else:\n",
    "    print(\"list is not empty\")"
   ]
  },
  {
   "cell_type": "code",
   "execution_count": 102,
   "id": "a9ba5f46",
   "metadata": {},
   "outputs": [
    {
     "name": "stdout",
     "output_type": "stream",
     "text": [
      "True\n"
     ]
    }
   ],
   "source": [
    "# 9] Write a Python function that takes two lists and returns true if they have \n",
    "# at least one common member\n",
    "a=[1,2,4,7,\"tushar\",\"fruit\",8,9]\n",
    "b=[3,5,6,4,0,66]\n",
    "result=False\n",
    "for i in a:\n",
    "    for j in b:\n",
    "        if i==j:\n",
    "            result = True\n",
    "print(result)        "
   ]
  },
  {
   "cell_type": "code",
   "execution_count": 101,
   "id": "359b61f9",
   "metadata": {},
   "outputs": [
    {
     "name": "stdout",
     "output_type": "stream",
     "text": [
      "[1, 4, 9, 16, 25]\n",
      "[676, 729, 784, 841, 900]\n"
     ]
    }
   ],
   "source": [
    "# 10]  Write a Python program to generate and print a list of first and last 5 \n",
    "# elements where the values are square of numbers between 1 and 30. \n",
    "l=list()\n",
    "for i in range(1,31):\n",
    "    l.append(i**2)\n",
    "print(l[:5:])\n",
    "print(l[-5::])"
   ]
  },
  {
   "cell_type": "code",
   "execution_count": null,
   "id": "0ccf28a9",
   "metadata": {},
   "outputs": [],
   "source": [
    "# 11] Write a Python function that takes a list and returns a new list with unique \n",
    "# elements of the first list."
   ]
  },
  {
   "cell_type": "code",
   "execution_count": 103,
   "id": "45c0052a",
   "metadata": {},
   "outputs": [
    {
     "name": "stdout",
     "output_type": "stream",
     "text": [
      "hello\n"
     ]
    }
   ],
   "source": [
    "# 12] Write a Python program to convert a list of characters into a string.\n",
    "a=[\"h\",\"e\",\"l\",\"l\",\"o\"]\n",
    "b=\"\".join(a)\n",
    "print(b)\n"
   ]
  },
  {
   "cell_type": "code",
   "execution_count": 6,
   "id": "eb1e2cd1",
   "metadata": {},
   "outputs": [
    {
     "name": "stdout",
     "output_type": "stream",
     "text": [
      "tiger\n"
     ]
    }
   ],
   "source": [
    "# 13] Write a Python program to select an item randomly from a list. \n",
    "a=[\"cat\",\"dog\",\"lion\",\"tiger\",\"bear\"]\n",
    "import random\n",
    "print(random.choice(a))"
   ]
  },
  {
   "cell_type": "code",
   "execution_count": 105,
   "id": "fbc928a6",
   "metadata": {},
   "outputs": [
    {
     "name": "stdout",
     "output_type": "stream",
     "text": [
      "[16, 19, 24, 35, 54, 77, 84]\n",
      "smallest second number is : [19]\n"
     ]
    }
   ],
   "source": [
    "# 14]Write a Python program to find the second smallest number in a list\n",
    "a=[35,24,54,16,77,84,19]\n",
    "a.sort()\n",
    "print(a)\n",
    "print(\"smallest second number is :\",a[1:2])"
   ]
  },
  {
   "cell_type": "code",
   "execution_count": 106,
   "id": "6ec27408",
   "metadata": {},
   "outputs": [
    {
     "name": "stdout",
     "output_type": "stream",
     "text": [
      "original list : [10, 20, 30, 40, 50, 60, 10, 30, 50]\n",
      "[40, 10, 50, 20, 60, 30]\n"
     ]
    }
   ],
   "source": [
    "# 15]Write a Python program to get unique values from a list \n",
    "a=[10,20,30,40,50,60,10,30,50]\n",
    "print(\"original list :\",a)\n",
    "print(list(set(a)))"
   ]
  },
  {
   "cell_type": "code",
   "execution_count": 107,
   "id": "9d28a15c",
   "metadata": {},
   "outputs": [
    {
     "name": "stdout",
     "output_type": "stream",
     "text": [
      "True\n"
     ]
    }
   ],
   "source": [
    "# 16]Write a Python program to check whether a list contains a sub list\n",
    "a=[3,4,5,6,7,8,9]\n",
    "b=[4,8,5]\n",
    "c=0\n",
    "result=False\n",
    "for i in a:\n",
    "    if i in b:\n",
    "        c=c+1\n",
    "    if(c==len(b)):\n",
    "        result=True\n",
    "print(result)\n"
   ]
  },
  {
   "cell_type": "code",
   "execution_count": 2,
   "id": "857f621b",
   "metadata": {
    "scrolled": true
   },
   "outputs": [
    {
     "name": "stdout",
     "output_type": "stream",
     "text": [
      "('love', 'yes', 'no')\n",
      "('valantine', 'yes', 'no')\n"
     ]
    }
   ],
   "source": [
    "# 17]Write a Python program to split a list into different variables. \n",
    "a = [(\"love\",\"yes\",\"no\"),(\"valantine\",\"yes\",\"no\")]\n",
    "var1,var2 = a\n",
    "print(var1)\n",
    "print(var2)\n",
    "# print(a)\n"
   ]
  },
  {
   "cell_type": "code",
   "execution_count": null,
   "id": "f8d89156",
   "metadata": {},
   "outputs": [],
   "source": [
    "# 18. What is tuple? Difference between list and tuple. \n",
    "ans:tuple is finite ordered list of element.\n",
    "    tuples are immutable as opposed to lists which are mutable."
   ]
  },
  {
   "cell_type": "code",
   "execution_count": 4,
   "id": "36c741f7",
   "metadata": {},
   "outputs": [
    {
     "name": "stdout",
     "output_type": "stream",
     "text": [
      "(12, 23.34, True, 'hello', (12, 34), {56, 34, 78}, ['cat', 'dog'], {'key': 'value', 'hello': 'love'})\n"
     ]
    }
   ],
   "source": [
    "# 19.  Write a Python program to create a tuple with different data types .\n",
    "tup1=(12,23.34,True,\"hello\",(12,34),{34,56,78},[\"cat\",\"dog\"],{\"key\":\"value\",\"hello\":\"love\"})\n",
    "print(tup1)"
   ]
  },
  {
   "cell_type": "code",
   "execution_count": 10,
   "id": "929dfb45",
   "metadata": {},
   "outputs": [
    {
     "name": "stdout",
     "output_type": "stream",
     "text": [
      "(12, 45, 67, 90, 32, 54, 65, 76, 87)\n"
     ]
    }
   ],
   "source": [
    "# 20.  Write a Python program to create a tuple with numbers. \n",
    "a=(12,45,67,90,32,54,65,76,87)\n",
    "print(a)"
   ]
  },
  {
   "cell_type": "code",
   "execution_count": 6,
   "id": "c7a250ac",
   "metadata": {},
   "outputs": [
    {
     "data": {
      "text/plain": [
       "'(32, 54, 65, 76, 87)'"
      ]
     },
     "execution_count": 6,
     "metadata": {},
     "output_type": "execute_result"
    }
   ],
   "source": [
    "# 21. Write a Python program to convert a tuple to a string.\n",
    "a=(32,54,65,76,87)\n",
    "str(a)\n"
   ]
  },
  {
   "cell_type": "code",
   "execution_count": 22,
   "id": "554386f7",
   "metadata": {},
   "outputs": [
    {
     "name": "stdout",
     "output_type": "stream",
     "text": [
      "True\n",
      "False\n"
     ]
    }
   ],
   "source": [
    "# 22. Write a Python program to check whether an element exists within a tuple\n",
    "tup1=(12,23.34,True,\"hello\",(12,34),{34,56,78},[\"cat\",\"dog\"],{\"key\":\"value\",\"hello\":\"love\"})\n",
    "print([\"cat\",\"dog\"] in tup1)\n",
    "print(456 in tup1)"
   ]
  },
  {
   "cell_type": "code",
   "execution_count": 23,
   "id": "a4c31648",
   "metadata": {},
   "outputs": [
    {
     "name": "stdout",
     "output_type": "stream",
     "text": [
      "8\n"
     ]
    }
   ],
   "source": [
    "# 23.  Write a Python program to find the length of a tuple.\n",
    "tup1=(12,23.34,True,\"hello\",(12,34),{34,56,78},[\"cat\",\"dog\"],{\"key\":\"value\",\"hello\":\"love\"})\n",
    "print(len(tup1))\n"
   ]
  },
  {
   "cell_type": "code",
   "execution_count": 26,
   "id": "90ad2295",
   "metadata": {},
   "outputs": [
    {
     "name": "stdout",
     "output_type": "stream",
     "text": [
      "[12, 45, 67, 90, 32, 54, 65, 76, 87]\n"
     ]
    }
   ],
   "source": [
    "# 24. Write a Python program to convert a list to a tuple. \n",
    "a=(12,45,67,90,32,54,65,76,87)\n",
    "b=(list(a))\n",
    "print(b)"
   ]
  },
  {
   "cell_type": "code",
   "execution_count": 32,
   "id": "6f5439ad",
   "metadata": {},
   "outputs": [
    {
     "name": "stdout",
     "output_type": "stream",
     "text": [
      "(87, 76, 65, 54, 32, 90, 67, 45, 12)\n"
     ]
    }
   ],
   "source": [
    "# 25. write a Python program to reverse a tuple. \n",
    "a=(12,45,67,90,32,54,65,76,87)\n",
    "print(a[::-1])\n"
   ]
  },
  {
   "cell_type": "code",
   "execution_count": 46,
   "id": "7e20f833",
   "metadata": {},
   "outputs": [
    {
     "name": "stdout",
     "output_type": "stream",
     "text": [
      "[12, 45, 67, 90, 32, 54, 65, 76, 87]\n",
      "[12, 45, 67, 90, 32, 54, 65, 76, 5647]\n",
      "(12, 45, 67, 90, 32, 54, 65, 76, 5647)\n"
     ]
    }
   ],
   "source": [
    "# 26.  Write a Python program to replace last value of tuples in a list.\n",
    "a=(12,45,67,90,32,54,65,76,87) \n",
    "b=list(a)\n",
    "print(b)\n",
    "b[-1]=5647\n",
    "print(b)\n",
    "c=tuple(b)\n",
    "print(c)"
   ]
  },
  {
   "cell_type": "code",
   "execution_count": 1,
   "id": "6c415a52",
   "metadata": {},
   "outputs": [
    {
     "name": "stdout",
     "output_type": "stream",
     "text": [
      "{32, 90, 67}\n"
     ]
    }
   ],
   "source": [
    "# 27. Write a Python program to find the repeated items of a tuple.\n",
    "set1=set()\n",
    "a=(12,45,67,90,32,54,65,90,67,32)\n",
    "for i in a:\n",
    "    if a.count(i)>1:\n",
    "        set1.add(i)\n",
    "print(set1)\n",
    "    "
   ]
  },
  {
   "cell_type": "code",
   "execution_count": 4,
   "id": "272b2735",
   "metadata": {},
   "outputs": [
    {
     "name": "stdout",
     "output_type": "stream",
     "text": [
      "[(), (34, 65, 87), ('a', 'b', 'c')]\n"
     ]
    }
   ],
   "source": [
    "# 28. Write a Python program to remove an empty tuple(s) from a list of tuples. \n",
    "a=[(),(),(34,65,87),(\"a\",\"b\",\"c\")]\n",
    "for i in a:\n",
    "    if (len(i)==0):\n",
    "        a.remove(i)\n",
    "        print(a)"
   ]
  },
  {
   "cell_type": "code",
   "execution_count": 18,
   "id": "ff70e873",
   "metadata": {},
   "outputs": [
    {
     "name": "stdout",
     "output_type": "stream",
     "text": [
      "{12: 34, 25: 26, 9: 23, 'hello': 'love'}\n"
     ]
    }
   ],
   "source": [
    "# 29. Write a Python program to convert a list of tuples into a dictionary.\n",
    "a=[(12,34),(25,26),(9,23),(\"hello\",\"love\")]\n",
    "b=dict(a)\n",
    "print(b)"
   ]
  },
  {
   "cell_type": "code",
   "execution_count": null,
   "id": "49669b70",
   "metadata": {},
   "outputs": [],
   "source": [
    "# 30. How will you create a dictionary using tuples in python?\n",
    "ans:using the dict() function to convert a tuple to a dictionary."
   ]
  },
  {
   "cell_type": "code",
   "execution_count": 25,
   "id": "ab024fff",
   "metadata": {},
   "outputs": [],
   "source": [
    "# 31. Write a Python script to sort (ascending and descending) a dictionary by value\n",
    "a={1:2,7:3,8:4,5:7,9:0}\n",
    "\n"
   ]
  },
  {
   "cell_type": "code",
   "execution_count": 29,
   "id": "a108f2e0",
   "metadata": {},
   "outputs": [
    {
     "name": "stdout",
     "output_type": "stream",
     "text": [
      "{1: 2, 2: 3, 3: 4, 4: 5}\n"
     ]
    }
   ],
   "source": [
    "# 32.  Write a Python script to concatenate following dictionaries to create a new one.\n",
    "dict1={1:2,2:3}\n",
    "dict2={3:4,4:5}\n",
    "dict3={}\n",
    "for i in (dict1,dict2):\n",
    "    dict3.update(i)\n",
    "print(dict3)"
   ]
  },
  {
   "cell_type": "code",
   "execution_count": 25,
   "id": "4050835e",
   "metadata": {},
   "outputs": [
    {
     "name": "stdout",
     "output_type": "stream",
     "text": [
      "enter:10\n",
      "key is not present\n"
     ]
    }
   ],
   "source": [
    "# 33.  Write a Python script to check if a given key already exists in a dictionary.\n",
    "n={'1':2,'7':3,'8':4,'5':7,'9':0,'8':5}\n",
    "a=input(\"enter:\")\n",
    "if a in n.keys():\n",
    "    print(\"key is present\")\n",
    "else:\n",
    "    print(\"key is not present\")"
   ]
  },
  {
   "cell_type": "code",
   "execution_count": 51,
   "id": "1c53fced",
   "metadata": {},
   "outputs": [
    {
     "name": "stdout",
     "output_type": "stream",
     "text": [
      "{1: 1, 2: 4, 3: 9, 4: 16, 5: 25, 6: 36, 7: 49, 8: 64, 9: 81, 10: 100, 11: 121, 12: 144, 13: 169, 14: 196, 15: 225}\n"
     ]
    }
   ],
   "source": [
    "# 34.  Write a Python script to print a dictionary where the keys are numbers between 1 and 15\n",
    "a=dict()\n",
    "for i in range (1,16):\n",
    "    a[i]=i**2\n",
    "print(a)"
   ]
  },
  {
   "cell_type": "code",
   "execution_count": 77,
   "id": "63b9eef0",
   "metadata": {},
   "outputs": [
    {
     "name": "stdout",
     "output_type": "stream",
     "text": [
      "True\n",
      "False\n"
     ]
    }
   ],
   "source": [
    "# 35. Write a Python program to check multiple keys exists in a dictionary \n",
    "a={\n",
    "\"name\" : \"ishita\",\n",
    "\"roll_no\" : 9,\n",
    "\"pass\" : True\n",
    "}\n",
    "print(a.keys()>={\"name\",\"pass\"})\n",
    "print(a.keys()>={\"name\",\"9\"})"
   ]
  },
  {
   "cell_type": "code",
   "execution_count": 14,
   "id": "dd8756e8",
   "metadata": {},
   "outputs": [
    {
     "name": "stdout",
     "output_type": "stream",
     "text": [
      "{1: 2, 7: 3, 8: 4, 5: 7, 9: 0, 3: 4, 4: 5}\n"
     ]
    }
   ],
   "source": [
    "# 36.  Write a Python script to merge two Python dictionaries \n",
    "a={1:2,7:3,8:4,5:7,9:0}\n",
    "b={3:4,4:5}\n",
    "a.update(b)\n",
    "print(a)"
   ]
  },
  {
   "cell_type": "code",
   "execution_count": 81,
   "id": "18be126f",
   "metadata": {},
   "outputs": [
    {
     "name": "stdout",
     "output_type": "stream",
     "text": [
      "{'colour': 'black', 'food': 'pizza', 'animal': 'lion'}\n"
     ]
    }
   ],
   "source": [
    "# 37. Write a Python program to map two lists into a dictionary \n",
    "a=[\"colour\",\"food\",\"animal\"]\n",
    "b=[\"black\",\"pizza\",\"lion\"]\n",
    "c=dict(zip(a,b))\n",
    "print(c)"
   ]
  },
  {
   "cell_type": "code",
   "execution_count": 1,
   "id": "a8e2fcff",
   "metadata": {},
   "outputs": [
    {
     "name": "stdout",
     "output_type": "stream",
     "text": [
      "120\n"
     ]
    }
   ],
   "source": [
    "# 38. Write a Python function to calculate the factorial of a number (a nonnegative integer)\n",
    "import math\n",
    "print(math.factorial(5))"
   ]
  },
  {
   "cell_type": "code",
   "execution_count": 8,
   "id": "a9e2215b",
   "metadata": {},
   "outputs": [
    {
     "name": "stdout",
     "output_type": "stream",
     "text": [
      "enter somthing:toot\n",
      "it is\n",
      "None\n"
     ]
    }
   ],
   "source": [
    "# 39. Write a Python function that checks whether a passed string is palindrome or not\n",
    "def palindrome(i):\n",
    "    if i==i[::-1]:\n",
    "        print(\"it is\")\n",
    "    else:\n",
    "        print(\"is not\")\n",
    "i=input(\"enter somthing:\")\n",
    "print(palindrome(i))"
   ]
  },
  {
   "cell_type": "code",
   "execution_count": null,
   "id": "204fe264",
   "metadata": {},
   "outputs": [],
   "source": [
    "# 40. How Many Basic Types Of Functions Are Available In Python?\n",
    "ans:There are many types of pyhton function and each of them is very vital in its own way.some of them are\n",
    "    1) python built-in functions\n",
    "    2)recursion function\n",
    "    3)lamba function\n",
    "    4)user-defined function"
   ]
  },
  {
   "cell_type": "code",
   "execution_count": 20,
   "id": "07083687",
   "metadata": {},
   "outputs": [],
   "source": [
    "# 41. How can you pick a random item from a list or tuple?\n",
    "ans:to using random.choice()function."
   ]
  },
  {
   "cell_type": "code",
   "execution_count": null,
   "id": "28954e2d",
   "metadata": {},
   "outputs": [],
   "source": [
    "# 42. How can you pick a random item from a range? \n",
    "ans: to using randrange() function."
   ]
  },
  {
   "cell_type": "code",
   "execution_count": null,
   "id": "48bd7410",
   "metadata": {},
   "outputs": [],
   "source": [
    "# 43. How can you get a random number in python? \n",
    "ans:to using random.randit() function."
   ]
  },
  {
   "cell_type": "code",
   "execution_count": 3,
   "id": "40961d90",
   "metadata": {},
   "outputs": [
    {
     "name": "stdout",
     "output_type": "stream",
     "text": [
      "1.5707963267948966\n"
     ]
    }
   ],
   "source": [
    "# 44. Write a Python program to convert degree to radian\n",
    "import math\n",
    "print(math.radians(90))\n"
   ]
  },
  {
   "cell_type": "code",
   "execution_count": 6,
   "id": "70817ddb",
   "metadata": {},
   "outputs": [
    {
     "name": "stdout",
     "output_type": "stream",
     "text": [
      "height of trapezoid:34\n",
      "base one value:56\n",
      "base two value:78\n",
      "area is: 2278.0\n"
     ]
    }
   ],
   "source": [
    "# 45.  Write a Python program to calculate the area of a trapezoid \n",
    "# a=4\n",
    "# b=2\n",
    "h=float(input(\"height of trapezoid:\"))\n",
    "a=float(input(\"base one value:\"))\n",
    "b=float(input(\"base two value:\"))\n",
    "area=((a+b)/2)*h\n",
    "print(\"area is:\",area)"
   ]
  },
  {
   "cell_type": "code",
   "execution_count": null,
   "id": "b9e99cdb",
   "metadata": {},
   "outputs": [],
   "source": [
    "# 46.  Write a Python program to calculate the area of a parallelogram\n",
    "base=float(input(\"length of base:\"))\n",
    "height=float(input(\"height:\"))\n",
    "area=base*height\n",
    "print(\"area of a parallelogram is:\",area)       "
   ]
  },
  {
   "cell_type": "code",
   "execution_count": null,
   "id": "cbdda789",
   "metadata": {},
   "outputs": [],
   "source": [
    "# 47.  Write a Python program to calculate surface volume and area of a cylinder\n",
    "radius=float(input(\"radius of cylinder:\"))\n",
    "height=float(input(\"height:\"))\n",
    "area=(2*3.14(radius+height))\n",
    "print(\"surface area of cylinder:\",area)"
   ]
  },
  {
   "cell_type": "code",
   "execution_count": null,
   "id": "908e1f55",
   "metadata": {},
   "outputs": [],
   "source": [
    "# 48.  How will you set the starting value in generating random numbers\n",
    "import random\n",
    "random.seed(2)\n",
    "print(random.random())\n"
   ]
  },
  {
   "cell_type": "code",
   "execution_count": null,
   "id": "6fe72a26",
   "metadata": {},
   "outputs": [],
   "source": [
    "# 49. How will you randomizes the items of a list in place\n",
    "import random\n",
    "list1=[1,2,3,4,5,6]\n",
    "random.shuffle(list1)\n",
    "print(list1)\n"
   ]
  },
  {
   "cell_type": "code",
   "execution_count": null,
   "id": "1fb491ca",
   "metadata": {},
   "outputs": [],
   "source": [
    "# 50.  Write a Python program to read a random line from a file.\n",
    "fp=open(\"ishu.txt\",\"w\")\n",
    "fp.write(\"hello my name is ishitajhduihduhdwddjiuuiuiw\\nmkwohdiuwdhiwdhiudh\\njhbduywuygduwj\\n\")\n",
    "fp=open(\"ishu.txt\",\"r\")\n",
    "print(fp.readline())\n",
    "fp.close()"
   ]
  },
  {
   "cell_type": "code",
   "execution_count": null,
   "id": "2eaf5c26",
   "metadata": {},
   "outputs": [],
   "source": [
    "# 51.  How Do You Traverse Through A Dictionary Object In Python\n",
    "dict={\n",
    "    'name':'ishu',\n",
    "    'age':'21',\n",
    "    'gender':'female'\n",
    "}\n",
    "for keys,values in dict.items():\n",
    "    print(keys,values)"
   ]
  },
  {
   "cell_type": "code",
   "execution_count": null,
   "id": "6e57995d",
   "metadata": {},
   "outputs": [],
   "source": [
    "# 52.  How Do You Check The Presence Of A Key In A Dictionary\n",
    "a={2000:\"priyanshi\",2001:\"jensi\",2002:\"ishita\",2003:\"arshit\"}\n",
    "if 2002 in a:\n",
    "    print(\"name:\",a[2002])\n",
    "else:\n",
    "    print(\"not exixst\")"
   ]
  },
  {
   "cell_type": "code",
   "execution_count": null,
   "id": "ac228424",
   "metadata": {},
   "outputs": [],
   "source": [
    "# 53. Write a Python program to combine two dictionary adding values for common keys. \n",
    "dict1 = {'a': 100, 'b': 200,'c':300} \n",
    "dict2 = {'a': 300, 'b': 200,'d':400}\n",
    "# dict3={}\n",
    "for key in dict1:\n",
    "    if key in dict2:\n",
    "        dict2[key]=dict2[key]+dict1[key]\n",
    "# for i in set(dict2).union(dict1):\n",
    "print(dict2)\n",
    "            "
   ]
  },
  {
   "cell_type": "code",
   "execution_count": 8,
   "id": "877669a0",
   "metadata": {},
   "outputs": [
    {
     "name": "stdout",
     "output_type": "stream",
     "text": [
      "True\n"
     ]
    }
   ],
   "source": [
    "# 54.Write a Python function to check whether a number is perfect or not. \n",
    "def perfect_number(x):\n",
    "    sum=0\n",
    "    for i in range(1,x):\n",
    "        if  x%i==0:\n",
    "            sum+=i \n",
    "    return sum==x\n",
    "print(perfect_number(6))\n"
   ]
  },
  {
   "cell_type": "code",
   "execution_count": 3,
   "id": "6773c508",
   "metadata": {},
   "outputs": [
    {
     "name": "stdout",
     "output_type": "stream",
     "text": [
      "number is not in given range\n",
      "None\n"
     ]
    }
   ],
   "source": [
    "# 55.Write a Python function to check whether a number is in a given range\n",
    "def test_range(x):\n",
    "    if x in range(1,11):\n",
    "        print(\"number is in given range\")\n",
    "    else:\n",
    "        print(\"number is not in given range\")\n",
    "print(test_range(89))\n",
    "        "
   ]
  }
 ],
 "metadata": {
  "kernelspec": {
   "display_name": "Python 3 (ipykernel)",
   "language": "python",
   "name": "python3"
  },
  "language_info": {
   "codemirror_mode": {
    "name": "ipython",
    "version": 3
   },
   "file_extension": ".py",
   "mimetype": "text/x-python",
   "name": "python",
   "nbconvert_exporter": "python",
   "pygments_lexer": "ipython3",
   "version": "3.9.13"
  }
 },
 "nbformat": 4,
 "nbformat_minor": 5
}
