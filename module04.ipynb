{
 "cells": [
  {
   "cell_type": "code",
   "execution_count": null,
   "id": "d1d9b7b9",
   "metadata": {},
   "outputs": [],
   "source": [
    "# What is File function in python? What is keywords to create and write file.\n",
    "python file object provides methods ans attributes to access and manipulate files.\n",
    "i)read()\n",
    "ii)write()"
   ]
  },
  {
   "cell_type": "code",
   "execution_count": 1,
   "id": "97b6be04",
   "metadata": {},
   "outputs": [
    {
     "name": "stdout",
     "output_type": "stream",
     "text": [
      "************************************************************\n",
      "\t\tedh\t\t|\t34\t\t|\tbejhf\n",
      "************************************************************\n",
      "\t\tjguy\t\t|\t23\t\t|\thdiuqdhq\n",
      "\n"
     ]
    }
   ],
   "source": [
    "# Write a Python program to read an entire text file.\n",
    "fp=open(\"demo.txt\",\"r\")\n",
    "print(fp.read())"
   ]
  },
  {
   "cell_type": "code",
   "execution_count": 10,
   "id": "a48b5bcf",
   "metadata": {},
   "outputs": [],
   "source": [
    "# Write a Python program to append text to a file and display the text. \n",
    "fp=open(\"yoyo.txt\",\"a\")\n",
    "fp.write(\"hello\")\n",
    "fp.close()"
   ]
  },
  {
   "cell_type": "code",
   "execution_count": 11,
   "id": "2d937f4c",
   "metadata": {},
   "outputs": [],
   "source": [
    "fp=open(\"yoyo.txt\",\"w\")\n",
    "fp.write(\"hello\\nhow are you\\nhey\\ni'm good\")\n",
    "fp.close()"
   ]
  },
  {
   "cell_type": "code",
   "execution_count": 12,
   "id": "38cc292f",
   "metadata": {},
   "outputs": [
    {
     "name": "stdout",
     "output_type": "stream",
     "text": [
      "enter line:3\n",
      "hello\n",
      "\n",
      "how are you\n",
      "\n",
      "hey\n",
      "\n"
     ]
    }
   ],
   "source": [
    "# Write a Python program to read first n lines of a file.\n",
    "n=int(input(\"enter line:\"))\n",
    "fp=open(\"yoyo.txt\",\"r\")\n",
    "for i in range(n):\n",
    "    print(fp.readline())"
   ]
  },
  {
   "cell_type": "code",
   "execution_count": 26,
   "id": "11cde3af",
   "metadata": {},
   "outputs": [
    {
     "name": "stdout",
     "output_type": "stream",
     "text": [
      "enter line:3\n",
      "['how are you\\n', 'hey\\n', \"i'm good\"]\n"
     ]
    }
   ],
   "source": [
    "# Write a Python program to read last n lines of a file.\n",
    "n=int(input(\"enter line:\"))\n",
    "fp=open(\"yoyo.txt\",\"r\")\n",
    "a=fp.readlines()\n",
    "b=a[-n:]\n",
    "print(b)"
   ]
  },
  {
   "cell_type": "code",
   "execution_count": null,
   "id": "dfd0542e",
   "metadata": {},
   "outputs": [],
   "source": [
    "# Write a Python program to read a file line by line and store it into a list\n",
    "n=int(input(\"enter line:\"))\n",
    "fp=open(\"yoyo.txt\",\"r\")\n",
    "a=fp.readlines()\n",
    "b=a[-n:]\n",
    "print(b)"
   ]
  },
  {
   "cell_type": "code",
   "execution_count": null,
   "id": "29920a9c",
   "metadata": {},
   "outputs": [],
   "source": [
    "# Write a Python program to read a file line by line store it into a variable. \n",
    "fp=open(\"yoyo.txt\",\"r\")\n",
    "a=fp.readline()\n",
    "print(a)"
   ]
  },
  {
   "cell_type": "code",
   "execution_count": null,
   "id": "40f3feef",
   "metadata": {},
   "outputs": [],
   "source": [
    "# Write a python program to find the longest words. \n"
   ]
  },
  {
   "cell_type": "code",
   "execution_count": null,
   "id": "778e4f70",
   "metadata": {},
   "outputs": [],
   "source": [
    "Explain Exception handling? What is an Error in Python? \n",
    "ans:exception handling allows you to seprate error handling code from normal code.when a certain statement is not in \n",
    "accordance with the prescribed usage."
   ]
  },
  {
   "cell_type": "code",
   "execution_count": null,
   "id": "66af2438",
   "metadata": {},
   "outputs": [],
   "source": [
    "How many except statements can a try-except block have? Name Some \n",
    "built-in exception classes: \n",
    "ans:there has to be at least one except statment.\n",
    "    checked exception:classnotfoundException,filenotfoundException\n",
    "    uncheacked exception:arithmeticException,nullpointException,arraystoreExecption"
   ]
  },
  {
   "cell_type": "code",
   "execution_count": null,
   "id": "fa49a990",
   "metadata": {},
   "outputs": [],
   "source": [
    "When will the else part of try-except-else be executed? \n",
    "ans:when no Exception occures."
   ]
  },
  {
   "cell_type": "code",
   "execution_count": null,
   "id": "f59d625c",
   "metadata": {},
   "outputs": [],
   "source": [
    "Can one block of except statements handle multiple exception? \n",
    "ans:try-except blocks can be used to catch and respond to one or multiple exception."
   ]
  },
  {
   "cell_type": "code",
   "execution_count": null,
   "id": "2e613c98",
   "metadata": {},
   "outputs": [],
   "source": [
    "When is the finally block executed? \n",
    "ans:when the try block exits."
   ]
  },
  {
   "cell_type": "code",
   "execution_count": null,
   "id": "ba72df44",
   "metadata": {},
   "outputs": [],
   "source": [
    "What happens when „1‟== 1 is executed? \n",
    "ans:it simply answer to false and does not raise any exception."
   ]
  },
  {
   "cell_type": "code",
   "execution_count": 28,
   "id": "3656f3cb",
   "metadata": {},
   "outputs": [
    {
     "name": "stdout",
     "output_type": "stream",
     "text": [
      "ZeroDivisionError\n"
     ]
    }
   ],
   "source": [
    "# How Do You Handle Exceptions With Try/Except/Finally In Python? Explain with coding snippets.\n",
    "try:\n",
    "    a=10\n",
    "    b=0\n",
    "    c=a/b\n",
    "    print(c)\n",
    "except:\n",
    "    print(\"ZeroDivisionError\")\n"
   ]
  },
  {
   "cell_type": "code",
   "execution_count": null,
   "id": "87ecf5b2",
   "metadata": {},
   "outputs": [],
   "source": [
    "# How to Define a Class in Python? What Is Self? Give An Example Of A Python Class \n",
    "ans :SELF represents the instance of class. This handy keyword allows you to access variables,\n",
    "    attributes, and methods of a defined class in Python. The self parameter doesn't have to\n",
    "    be named “self,” as you can call it by any other name\n",
    "    class student:\n",
    "    \n",
    "    def __init__(self):\n",
    "        self.name=\"\"\n",
    "        self.age=\"\"\n",
    "        self.marks1=\"\"\n",
    "        self.marks2=\"\"\n",
    "    def getdata(self):\n",
    "        self.name=input(\"enter name:\")\n",
    "        self.age=input(\"enter age:\")\n",
    "        self.marks1=int(input(\"enter marks1:\"))\n",
    "        self.marks2=int(input(\"enter marks2:\"))\n",
    "s1=student()\n",
    "s1.getdata()\n",
    "s2=student()\n",
    "s2.getdata()\n",
    "s3=student()\n",
    "s3.getdata()"
   ]
  },
  {
   "cell_type": "code",
   "execution_count": null,
   "id": "47758564",
   "metadata": {},
   "outputs": [],
   "source": [
    "# Explain Inheritance in Python with an example? What is init? Or  Is A CoWhatnstructor In Python? \n",
    "ans:Inheritance relationship defines the classes that inherit from other classes as derived, subclass, or sub-type classes.\n",
    "   - The __init__ method is the Python equivalent of the C++ constructor in an object-oriented approach.\n",
    "   - Constructors in Python is a special method of a class for creating and initializing an object instance at that class.\n",
    "    "
   ]
  },
  {
   "cell_type": "code",
   "execution_count": null,
   "id": "c174ef03",
   "metadata": {},
   "outputs": [],
   "source": [
    "# What is Instantiation in terms of OOP terminology\n",
    "ans:In object-oriented programming (OOP), an object is essentially an instance of a class. In OOP languages,\n",
    "    a class is like a blueprint where variables and methods are defined,\n",
    "    and each time a new instance of the class (instantiation) is created, \n",
    "    an object gets created hence the term object-oriented."
   ]
  },
  {
   "cell_type": "code",
   "execution_count": null,
   "id": "7a24907f",
   "metadata": {},
   "outputs": [],
   "source": [
    "# What is used to check whether an object o is an instance of class A? \n",
    "ans:The isinstance() function returns True if the specified object is of the specified type, otherwise False .\n",
    "    If the type parameter is a tuple, this function will return True if the object is one of the types in the tuple."
   ]
  },
  {
   "cell_type": "code",
   "execution_count": null,
   "id": "0f34a548",
   "metadata": {},
   "outputs": [],
   "source": [
    "# What are oops concepts? Is multiple inheritance supported in java \n",
    "ans:OOP (object-oriented programming) concepts in Python include Class, Object, Method, Inheritance,\n",
    "    Polymorphism, Data Abstraction, and Encapsulation.\n",
    "   -  Java programming language does not permit you to extend more than one class is to avoid the issues\n",
    "    of multiple inheritance of state, which is the ability to inherit fields from multiple classes."
   ]
  },
  {
   "cell_type": "code",
   "execution_count": 1,
   "id": "ad426519",
   "metadata": {},
   "outputs": [
    {
     "name": "stdout",
     "output_type": "stream",
     "text": [
      "120\n"
     ]
    }
   ],
   "source": [
    "# Write a Python class named Rectangle constructed by a length and \n",
    "# width and a method which will compute the area of a rectangle \n",
    "class Rectangle():\n",
    "    def __init__(self, l, w):\n",
    "        self.length = l\n",
    "        self.width  = w\n",
    "\n",
    "    def rectangle_area(self):\n",
    "        return self.length*self.width\n",
    "\n",
    "a= Rectangle(12, 10)\n",
    "print(a.rectangle_area())\n"
   ]
  },
  {
   "cell_type": "code",
   "execution_count": 2,
   "id": "399b31bd",
   "metadata": {},
   "outputs": [
    {
     "name": "stdout",
     "output_type": "stream",
     "text": [
      "200.96\n",
      "50.24\n"
     ]
    }
   ],
   "source": [
    "# Write a Python class named Circle constructed by a radius and two \n",
    "# methods which will compute the area and the perimeter of a circle \n",
    "class Circle():\n",
    "    def __init__(self, r):\n",
    "        self.radius = r\n",
    "\n",
    "    def area(self):\n",
    "        return self.radius**2*3.14\n",
    "    \n",
    "    def perimeter(self):\n",
    "        return 2*self.radius*3.14\n",
    "\n",
    "a= Circle(8)\n",
    "print(a.area())\n",
    "print(a.perimeter())\n"
   ]
  },
  {
   "cell_type": "code",
   "execution_count": 3,
   "id": "159472c7",
   "metadata": {},
   "outputs": [
    {
     "name": "stdout",
     "output_type": "stream",
     "text": [
      "['h', 'e', 'l', 'l', 'o', ',', 'h', 'o', 'w', ' ', 'a', 'r', 'e', ' ', 'y', 'o', 'u']\n"
     ]
    }
   ],
   "source": [
    "# Write a python program to find the longest words.\n",
    "st1=\"hello,how are you\"\n",
    "st1=sorted(st1,key=len)\n",
    "print(st1)"
   ]
  },
  {
   "cell_type": "code",
   "execution_count": 2,
   "id": "63c65f2c",
   "metadata": {},
   "outputs": [
    {
     "name": "stdout",
     "output_type": "stream",
     "text": [
      "************************************************************\n",
      "\t\tedh\t\t|\t34\t\t|\tbejhf\n",
      "************************************************************\n",
      "\t\tjguy\t\t|\t23\t\t|\thdiuqdhq\n",
      "hellohello\n",
      "ishita\n",
      "ishu\n"
     ]
    }
   ],
   "source": [
    "# Write a Python program to write a list to a file.\n",
    "l1=[\"ishita\",\"ishu\"]\n",
    "fp=open(\"demo.txt\",\"a\")\n",
    "for i in l1:\n",
    "    fp.write(f\"\\n{i}\")\n",
    "fp.close()\n",
    "fp=open(\"demo.txt\",\"r\")\n",
    "print(fp.read())\n"
   ]
  },
  {
   "cell_type": "code",
   "execution_count": 1,
   "id": "70414255",
   "metadata": {},
   "outputs": [
    {
     "name": "stdout",
     "output_type": "stream",
     "text": [
      "5\n"
     ]
    }
   ],
   "source": [
    "# Write a Python program to count the number of lines in a text file.\n",
    "fp=open(\"demo.txt\",\"r\")\n",
    "print(len(fp.readlines()))"
   ]
  }
 ],
 "metadata": {
  "kernelspec": {
   "display_name": "Python 3 (ipykernel)",
   "language": "python",
   "name": "python3"
  },
  "language_info": {
   "codemirror_mode": {
    "name": "ipython",
    "version": 3
   },
   "file_extension": ".py",
   "mimetype": "text/x-python",
   "name": "python",
   "nbconvert_exporter": "python",
   "pygments_lexer": "ipython3",
   "version": "3.9.13"
  }
 },
 "nbformat": 4,
 "nbformat_minor": 5
}
